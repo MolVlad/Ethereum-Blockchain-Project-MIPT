{
 "cells": [
  {
   "cell_type": "markdown",
   "metadata": {},
   "source": [
    "# Fill necessary info"
   ]
  },
  {
   "cell_type": "code",
   "execution_count": 114,
   "metadata": {},
   "outputs": [],
   "source": [
    "contractAddress = '0x0f4507E6dc60EADc0e9b0034Fd370A0f5F7B3B34'\n",
    "name = \"Vlados\"\n",
    "addr = '0x0bF0938fA40eaAA77B803467C2CEf44b49B04365'"
   ]
  },
  {
   "cell_type": "markdown",
   "metadata": {},
   "source": [
    "### Connect to test net"
   ]
  },
  {
   "cell_type": "code",
   "execution_count": 115,
   "metadata": {},
   "outputs": [
    {
     "name": "stdout",
     "output_type": "stream",
     "text": [
      "is connected: True\n"
     ]
    }
   ],
   "source": [
    "from web3 import HTTPProvider, Web3\n",
    "import web3\n",
    "import json\n",
    "\n",
    "web3 = Web3(HTTPProvider('http://127.0.0.1:7545'))\n",
    "print(\"is connected:\", web3.isConnected())"
   ]
  },
  {
   "cell_type": "code",
   "execution_count": 116,
   "metadata": {},
   "outputs": [],
   "source": [
    "address = web3.toChecksumAddress(contractAddress)\n",
    "web3.eth.defaultAccount = addr"
   ]
  },
  {
   "cell_type": "code",
   "execution_count": 117,
   "metadata": {},
   "outputs": [],
   "source": [
    "trufflePath = 'contract'\n",
    "truffleFile = json.load(open(trufflePath + '/build/contracts/Monopoly.json'))\n",
    "\n",
    "abi = truffleFile['abi']"
   ]
  },
  {
   "cell_type": "code",
   "execution_count": 118,
   "metadata": {},
   "outputs": [],
   "source": [
    "game = web3.eth.contract(address=address, abi=abi)"
   ]
  },
  {
   "cell_type": "markdown",
   "metadata": {},
   "source": [
    "### Some functions"
   ]
  },
  {
   "cell_type": "code",
   "execution_count": 119,
   "metadata": {},
   "outputs": [],
   "source": [
    "def isInPrison(contract, playerNumber):\n",
    "    return contract.functions.getPlayerByIndex(playerNumber).call()[4] > 0\n",
    "\n",
    "def getPlayers(contract):\n",
    "    players = {}\n",
    "    maxNumber = contract.functions.getMaxNumberOfPlayers().call()\n",
    "    for i in range(maxNumber):\n",
    "        player = contract.functions.getPlayerByIndex(i).call()\n",
    "        players[player[1]]={\"money\":player[2], \"position\":player[3], \"moves in prison\":player[4]}\n",
    "    return players\n",
    "\n",
    "def getPositions(contract):\n",
    "    positions = []\n",
    "    numberOfPositions = contract.functions.getNumberOfPositions().call()\n",
    "    players = getPlayers(contract)\n",
    "    \n",
    "    for i in range(numberOfPositions):\n",
    "        [state, owner] = contract.functions.getPositionInfoByIndex(i).call()\n",
    "        if state == 0:\n",
    "            positions.append([\"None\",\"\"])\n",
    "        if state == 1:\n",
    "            positions.append([\"Available\", \"\"])\n",
    "        if state == 2:\n",
    "            positions.append([\"Bought\", game.functions.getPlayerByIndex(owner).call()[1]])\n",
    "    \n",
    "    return positions\n",
    "\n",
    "def printLogInfo(event_filter):\n",
    "    events=event_filter.get_new_entries()\n",
    "    for event in events:\n",
    "        print(\"Action:\",event['args']['name'],\"at position\",event['args']['position'],\":\", event['args']['action'])\n",
    "        \n",
    "def isInPrison(contract, playerNumber):\n",
    "    return contract.functions.getPlayerByIndex(playerNumber).call()[4] > 0"
   ]
  },
  {
   "cell_type": "markdown",
   "metadata": {},
   "source": [
    "### Enroll the game"
   ]
  },
  {
   "cell_type": "code",
   "execution_count": 120,
   "metadata": {},
   "outputs": [
    {
     "name": "stdout",
     "output_type": "stream",
     "text": [
      "True\n",
      "status 1\n",
      "player number 0\n"
     ]
    }
   ],
   "source": [
    "print(game.functions.enroll(name).call())\n",
    "tx_hash=game.functions.enroll(name).transact()\n",
    "tx_receipt = web3.eth.waitForTransactionReceipt(tx_hash)\n",
    "print(\"status\",tx_receipt.status)\n",
    "\n",
    "filterMoveIsMade = game.events.moveIsMade.createFilter(fromBlock=\"latest\", argument_filters={'name':name})\n",
    "filterStationBought = game.events.stationBought.createFilter(fromBlock=\"latest\", argument_filters={'name':name})\n",
    "filterActionHappened = game.events.actionHappened.createFilter(fromBlock=\"latest\")\n",
    "\n",
    "[isOk, playerNumber] = game.functions.getNumberOfYourPlayer().call()\n",
    "if isOk:\n",
    "    print(\"player number\", playerNumber)\n",
    "else:\n",
    "    print(\"get number of player error\")"
   ]
  },
  {
   "cell_type": "markdown",
   "metadata": {},
   "source": [
    "### Make move"
   ]
  },
  {
   "cell_type": "code",
   "execution_count": 47,
   "metadata": {},
   "outputs": [
    {
     "name": "stdout",
     "output_type": "stream",
     "text": [
      "game is active: True\n",
      "Don't need decision\n",
      "whose move: Vlados\n"
     ]
    }
   ],
   "source": [
    "print(\"game is active:\", game.functions.isGameActive().call())\n",
    "if game.functions.getPlayerByIndex(playerNumber).call()[5]:\n",
    "    print(\"Need decision\")\n",
    "else:\n",
    "    print(\"Don't need decision\")\n",
    "print(\"whose move:\", game.functions.getWhoseMove().call())"
   ]
  },
  {
   "cell_type": "code",
   "execution_count": 48,
   "metadata": {},
   "outputs": [
    {
     "name": "stdout",
     "output_type": "stream",
     "text": [
      "status 1\n",
      "Dice value: 5\n",
      "Need decision\n",
      "current money: 50\n",
      "in prison: False\n",
      "Action: Phill at position 2 : Toll station, pay 50$ to Vlados\n",
      "Vlados {'money': 50, 'position': 7, 'moves in prison': 0}\n",
      "Phill {'money': 150, 'position': 2, 'moves in prison': 0}\n"
     ]
    },
    {
     "data": {
      "text/plain": [
       "[['None', ''],\n",
       " ['Available', ''],\n",
       " ['Bought', 'Vlados'],\n",
       " ['None', ''],\n",
       " ['None', ''],\n",
       " ['Available', ''],\n",
       " ['None', ''],\n",
       " ['Available', ''],\n",
       " ['Available', ''],\n",
       " ['None', ''],\n",
       " ['None', ''],\n",
       " ['Available', '']]"
      ]
     },
     "execution_count": 48,
     "metadata": {},
     "output_type": "execute_result"
    }
   ],
   "source": [
    "if game.functions.getWhoseMove().call() == name:\n",
    "    tx_hash=game.functions.makeMove().transact()\n",
    "    tx_receipt = web3.eth.waitForTransactionReceipt(tx_hash)\n",
    "    print(\"status\",tx_receipt.status)\n",
    "    events=filterMoveIsMade.get_new_entries()\n",
    "    if len(events) > 0:\n",
    "        print(\"Dice value:\", events[len(events)-1]['args']['dice'])\n",
    "    else:\n",
    "        print(\"no events with moves\")\n",
    "    if game.functions.getPlayerByIndex(playerNumber).call()[5]:\n",
    "        print(\"Need decision\")\n",
    "    else:\n",
    "        print(\"Don't need decision\")\n",
    "    print(\"current money:\", game.functions.getPlayerByIndex(playerNumber).call()[2])\n",
    "    print(\"in prison:\",isInPrison(game, playerNumber))\n",
    "else:\n",
    "    print(\"not your move\")\n",
    "    \n",
    "printLogInfo(filterActionHappened)\n",
    "\n",
    "players=getPlayers(game)\n",
    "for player in players:\n",
    "    print(player,players[player])\n",
    "getPositions(game)"
   ]
  },
  {
   "cell_type": "markdown",
   "metadata": {},
   "source": [
    "### Make decision about buying station if it is possible"
   ]
  },
  {
   "cell_type": "code",
   "execution_count": 29,
   "metadata": {},
   "outputs": [],
   "source": [
    "decision = True"
   ]
  },
  {
   "cell_type": "code",
   "execution_count": 44,
   "metadata": {},
   "outputs": [
    {
     "name": "stdout",
     "output_type": "stream",
     "text": [
      "True\n",
      "status 1\n",
      "station 2 is bought by you\n",
      "Action: Vlados at position 2 : Station is bought\n",
      "Vlados {'money': 0, 'position': 2, 'moves in prison': 0}\n",
      "Phill {'money': 200, 'position': 0, 'moves in prison': 0}\n"
     ]
    },
    {
     "data": {
      "text/plain": [
       "[['None', ''],\n",
       " ['Available', ''],\n",
       " ['Bought', 'Vlados'],\n",
       " ['None', ''],\n",
       " ['None', ''],\n",
       " ['Available', ''],\n",
       " ['None', ''],\n",
       " ['Available', ''],\n",
       " ['Available', ''],\n",
       " ['None', ''],\n",
       " ['None', ''],\n",
       " ['Available', '']]"
      ]
     },
     "execution_count": 44,
     "metadata": {},
     "output_type": "execute_result"
    }
   ],
   "source": [
    "print(game.functions.buyStation(decision).call())\n",
    "tx_hash=game.functions.buyStation(decision).transact()\n",
    "tx_receipt = web3.eth.waitForTransactionReceipt(tx_hash)\n",
    "print(\"status\",tx_receipt.status)\n",
    "events=filterStationBought.get_new_entries()\n",
    "if len(events) > 0:\n",
    "    if len(events) == 1:\n",
    "        print(\"station\",events[len(events)-1]['args']['station'], \"is bought by you\")\n",
    "    else:\n",
    "        print(\"there are also more events\")\n",
    "else:\n",
    "    print(\"station is not bought by you\")\n",
    "    print(\"current money:\", game.functions.getPlayerByIndex(playerNumber).call()[2])\n",
    "    \n",
    "printLogInfo(filterActionHappened)\n",
    "\n",
    "players=getPlayers(game)\n",
    "for player in players:\n",
    "    print(player,players[player])\n",
    "getPositions(game)"
   ]
  },
  {
   "cell_type": "code",
   "execution_count": null,
   "metadata": {},
   "outputs": [],
   "source": []
  }
 ],
 "metadata": {
  "kernelspec": {
   "display_name": "Python 3",
   "language": "python",
   "name": "python3"
  },
  "language_info": {
   "codemirror_mode": {
    "name": "ipython",
    "version": 3
   },
   "file_extension": ".py",
   "mimetype": "text/x-python",
   "name": "python",
   "nbconvert_exporter": "python",
   "pygments_lexer": "ipython3",
   "version": "3.8.3"
  }
 },
 "nbformat": 4,
 "nbformat_minor": 4
}
