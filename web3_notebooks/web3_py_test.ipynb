{
 "cells": [
  {
   "cell_type": "markdown",
   "metadata": {},
   "source": [
    "# Let's connect to test net"
   ]
  },
  {
   "cell_type": "code",
   "execution_count": 2,
   "metadata": {},
   "outputs": [
    {
     "name": "stderr",
     "output_type": "stream",
     "text": [
      "Consider installing rusty-rlp to improve pyrlp performance with a rust based backend\n"
     ]
    }
   ],
   "source": [
    "from web3 import HTTPProvider, Web3\n",
    "import web3\n",
    "import json"
   ]
  },
  {
   "cell_type": "code",
   "execution_count": 27,
   "metadata": {},
   "outputs": [],
   "source": [
    "# connect to ganache test net or any other net\n",
    "web3 = Web3(HTTPProvider('http://127.0.0.1:7545'))"
   ]
  },
  {
   "cell_type": "code",
   "execution_count": 28,
   "metadata": {},
   "outputs": [
    {
     "data": {
      "text/plain": [
       "['0x14f53F5BBf87AF3E7B680E148104E2e373e7809f',\n",
       " '0xfd6e81f73c4898137a359BEe9bFF3150b58aD9A5',\n",
       " '0x576EB458C3e43AFBe3B4bfDC5132B93E2B97c1B2',\n",
       " '0x0ee2B9140d7d5b2f446052180E9731786ab8b007',\n",
       " '0x7461A2694bF3b38d0AaE19Dc7247fE0F2c1E400e',\n",
       " '0x6037d6169Ce73996a69e7Ff83599CCd34CF845e6',\n",
       " '0x6BA7AAdb42f60C0939C8D6938bd4024ee57c3dEA',\n",
       " '0xceaFdf29B140869E8C43B10e08ae022528b31024',\n",
       " '0x8FBf2EBD076168894EBD9e69C625d152c9D8FF7b',\n",
       " '0xB1257DcED4A80738b9a150E83e5e5bF01De91545']"
      ]
     },
     "execution_count": 28,
     "metadata": {},
     "output_type": "execute_result"
    }
   ],
   "source": [
    "# list of all users\n",
    "web3.eth.accounts"
   ]
  },
  {
   "cell_type": "code",
   "execution_count": 29,
   "metadata": {},
   "outputs": [
    {
     "name": "stdout",
     "output_type": "stream",
     "text": [
      "True\n"
     ]
    }
   ],
   "source": [
    "# check is it connected\n",
    "print(web3.isConnected())"
   ]
  },
  {
   "cell_type": "code",
   "execution_count": 30,
   "metadata": {},
   "outputs": [
    {
     "data": {
      "text/plain": [
       "0"
      ]
     },
     "execution_count": 30,
     "metadata": {},
     "output_type": "execute_result"
    }
   ],
   "source": [
    "# number of blocks in this net\n",
    "web3.eth.blockNumber"
   ]
  },
  {
   "cell_type": "markdown",
   "metadata": {},
   "source": [
    "# Let's make a transaction between users"
   ]
  },
  {
   "cell_type": "code",
   "execution_count": 6,
   "metadata": {},
   "outputs": [],
   "source": [
    "# let's make a transaction from user 0 to user 1\n",
    "account_0 = web3.eth.accounts[0]\n",
    "account_1 = web3.eth.accounts[1]"
   ]
  },
  {
   "cell_type": "markdown",
   "metadata": {},
   "source": [
    "### Private key in our case should be obtained from ganache"
   ]
  },
  {
   "cell_type": "code",
   "execution_count": 81,
   "metadata": {},
   "outputs": [],
   "source": [
    "# this is private key of user 0 which could be found in ganache\n",
    "private_key = 'e0b57b6c26b21701e3c02427ba9c1b77a616cf2f696d9298f71e73c0f6daf55c'"
   ]
  },
  {
   "cell_type": "code",
   "execution_count": 82,
   "metadata": {},
   "outputs": [
    {
     "data": {
      "text/plain": [
       "Decimal('99.991881599')"
      ]
     },
     "execution_count": 82,
     "metadata": {},
     "output_type": "execute_result"
    }
   ],
   "source": [
    "# this is a balance of user 0\n",
    "web3.fromWei(web3.eth.getBalance(account_0), 'ether')"
   ]
  },
  {
   "cell_type": "code",
   "execution_count": 83,
   "metadata": {},
   "outputs": [
    {
     "data": {
      "text/plain": [
       "4"
      ]
     },
     "execution_count": 83,
     "metadata": {},
     "output_type": "execute_result"
    }
   ],
   "source": [
    "# counter of transaction of user 0\n",
    "# needed for avoiding double spending\n",
    "nonce = web3.eth.getTransactionCount(account_1)\n",
    "nonce"
   ]
  },
  {
   "cell_type": "code",
   "execution_count": 84,
   "metadata": {},
   "outputs": [],
   "source": [
    "# create dictionary corresponding to our transaction\n",
    "tx = {\n",
    "    'nonce': nonce,\n",
    "    'to': account_0,\n",
    "    'value': web3.toWei(1, 'ether'),\n",
    "    'gas': 2000000,\n",
    "    'gasPrice': web3.toWei(50, 'gwei'),\n",
    "}"
   ]
  },
  {
   "cell_type": "code",
   "execution_count": 85,
   "metadata": {},
   "outputs": [
    {
     "data": {
      "text/plain": [
       "<eth_account.account.Account at 0x7fe0b998e250>"
      ]
     },
     "execution_count": 85,
     "metadata": {},
     "output_type": "execute_result"
    }
   ],
   "source": [
    "web3.eth.account"
   ]
  },
  {
   "cell_type": "code",
   "execution_count": 86,
   "metadata": {},
   "outputs": [
    {
     "name": "stdout",
     "output_type": "stream",
     "text": [
      "0xd3972dac1db08b2cee21130c4da2599a2fd8af261a053b94ad1015ee89f3d7e2\n"
     ]
    }
   ],
   "source": [
    "# sign transaction with private key and then send this transaction to blockhain\n",
    "signed_tx = web3.eth.account.signTransaction(tx, private_key)\n",
    "tx_hash = web3.eth.sendRawTransaction(signed_tx.rawTransaction)\n",
    "print(web3.toHex(tx_hash))"
   ]
  },
  {
   "cell_type": "markdown",
   "metadata": {},
   "source": [
    "# Let's deploy smart contract"
   ]
  },
  {
   "cell_type": "code",
   "execution_count": 47,
   "metadata": {},
   "outputs": [],
   "source": [
    "# set the default account which will deploy contracts\n",
    "web3.eth.defaultAccount = web3.eth.accounts[0]"
   ]
  },
  {
   "cell_type": "markdown",
   "metadata": {},
   "source": [
    "### For deploying you have to know ABI - application binary interface. You can find it in Compilation Details if you use remix for online solidity code compilation"
   ]
  },
  {
   "cell_type": "code",
   "execution_count": 48,
   "metadata": {},
   "outputs": [],
   "source": [
    "abi = json.loads('[{\"constant\":false,\"inputs\":[{\"name\":\"_greeting\",\"type\":\"string\"}],\"name\":\"setGreeting\",\"outputs\":[],\"payable\":false,\"stateMutability\":\"nonpayable\",\"type\":\"function\"},{\"constant\":true,\"inputs\":[],\"name\":\"greet\",\"outputs\":[{\"name\":\"\",\"type\":\"string\"}],\"payable\":false,\"stateMutability\":\"view\",\"type\":\"function\"},{\"constant\":true,\"inputs\":[],\"name\":\"greeting\",\"outputs\":[{\"name\":\"\",\"type\":\"string\"}],\"payable\":false,\"stateMutability\":\"view\",\"type\":\"function\"},{\"inputs\":[],\"payable\":false,\"stateMutability\":\"nonpayable\",\"type\":\"constructor\"}]')"
   ]
  },
  {
   "cell_type": "markdown",
   "metadata": {},
   "source": [
    "### You also need bytecode which could be found in the same place"
   ]
  },
  {
   "cell_type": "code",
   "execution_count": 49,
   "metadata": {},
   "outputs": [],
   "source": [
    "bytecode = \"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\""
   ]
  },
  {
   "cell_type": "code",
   "execution_count": 50,
   "metadata": {},
   "outputs": [],
   "source": [
    "# create instance of contract\n",
    "Greeter = web3.eth.contract(abi=abi, bytecode=bytecode)"
   ]
  },
  {
   "cell_type": "code",
   "execution_count": 65,
   "metadata": {},
   "outputs": [],
   "source": [
    "# deploy it in your net\n",
    "tx_hash = Greeter.constructor().transact()\n",
    "# wait for deployment completion\n",
    "tx_receipt = web3.eth.waitForTransactionReceipt(tx_hash)"
   ]
  },
  {
   "cell_type": "code",
   "execution_count": 66,
   "metadata": {},
   "outputs": [
    {
     "name": "stdout",
     "output_type": "stream",
     "text": [
      "0xb7494FB4bF01dc85251FD6D56f76ff1ab94bbb89\n"
     ]
    }
   ],
   "source": [
    "# have a look at returned contract address\n",
    "print(tx_receipt.contractAddress)"
   ]
  },
  {
   "cell_type": "code",
   "execution_count": 138,
   "metadata": {},
   "outputs": [],
   "source": [
    "# use this address to connect to contract\n",
    "contract = web3.eth.contract(\n",
    "    address=tx_receipt.contractAddress,\n",
    "    abi=abi,\n",
    ")"
   ]
  },
  {
   "cell_type": "code",
   "execution_count": 139,
   "metadata": {},
   "outputs": [
    {
     "name": "stdout",
     "output_type": "stream",
     "text": [
      "Default contract greeting: Hello\n"
     ]
    }
   ],
   "source": [
    "# and call greet() function in this contract\n",
    "print('Default contract greeting: {}'.format(\n",
    "    contract.functions.greet().call()\n",
    "))"
   ]
  },
  {
   "cell_type": "code",
   "execution_count": 140,
   "metadata": {},
   "outputs": [
    {
     "name": "stdout",
     "output_type": "stream",
     "text": [
      "Updated contract greeting: HELLOOOO!!!!\n"
     ]
    }
   ],
   "source": [
    "# call another function to update the greeting\n",
    "tx_hash = contract.functions.setGreeting('HELLOOOO!!!!').transact()\n",
    "\n",
    "# wait for transaction to be mined...\n",
    "web3.eth.waitForTransactionReceipt(tx_hash)\n",
    "\n",
    "# display the new greeting value\n",
    "print('Updated contract greeting: {}'.format(\n",
    "    contract.functions.greet().call()\n",
    "))"
   ]
  },
  {
   "cell_type": "markdown",
   "metadata": {},
   "source": [
    "# Let's connect to already deployed contract"
   ]
  },
  {
   "cell_type": "markdown",
   "metadata": {},
   "source": [
    "### For connection to already deployed contract we have to know ABI which could be found in Compilation Details and contract address which is shown in ganache transactions tab"
   ]
  },
  {
   "cell_type": "code",
   "execution_count": 64,
   "metadata": {},
   "outputs": [],
   "source": [
    "address = web3.toChecksumAddress('0x8973dEF66ad7F0ab9246E886284a979D227f0658')"
   ]
  },
  {
   "cell_type": "code",
   "execution_count": 65,
   "metadata": {},
   "outputs": [],
   "source": [
    "abi = json.loads('[{\"constant\":false,\"inputs\":[{\"name\":\"_greeting\",\"type\":\"string\"}],\"name\":\"setGreeting\",\"outputs\":[],\"payable\":false,\"stateMutability\":\"nonpayable\",\"type\":\"function\"},{\"constant\":true,\"inputs\":[],\"name\":\"greet\",\"outputs\":[{\"name\":\"\",\"type\":\"string\"}],\"payable\":false,\"stateMutability\":\"view\",\"type\":\"function\"},{\"constant\":true,\"inputs\":[],\"name\":\"greeting\",\"outputs\":[{\"name\":\"\",\"type\":\"string\"}],\"payable\":false,\"stateMutability\":\"view\",\"type\":\"function\"},{\"inputs\":[],\"payable\":false,\"stateMutability\":\"nonpayable\",\"type\":\"constructor\"}]')"
   ]
  },
  {
   "cell_type": "code",
   "execution_count": 66,
   "metadata": {},
   "outputs": [],
   "source": [
    "# connect to existing contract using address and abi\n",
    "contract = web3.eth.contract(address=address, abi=abi)"
   ]
  },
  {
   "cell_type": "code",
   "execution_count": 67,
   "metadata": {},
   "outputs": [
    {
     "data": {
      "text/plain": [
       "'HELLOOOO!!!!'"
      ]
     },
     "execution_count": 67,
     "metadata": {},
     "output_type": "execute_result"
    }
   ],
   "source": [
    "# call greet function there\n",
    "contract.functions.greet().call()"
   ]
  },
  {
   "cell_type": "code",
   "execution_count": 68,
   "metadata": {},
   "outputs": [
    {
     "name": "stdout",
     "output_type": "stream",
     "text": [
      "Updated contract greeting: HEELLLLOOOOOO!!!\n"
     ]
    }
   ],
   "source": [
    "# set a new greeting\n",
    "tx_hash = contract.functions.setGreeting('HEELLLLOOOOOO!!!').transact()\n",
    "# wait for transaction to be mined\n",
    "web3.eth.waitForTransactionReceipt(tx_hash)\n",
    "# display the new greeting value\n",
    "print('Updated contract greeting: {}'.format(\n",
    "    contract.functions.greet().call()\n",
    "))"
   ]
  },
  {
   "cell_type": "markdown",
   "metadata": {},
   "source": [
    "# Let's try contract from truffle compiler"
   ]
  },
  {
   "cell_type": "code",
   "execution_count": 31,
   "metadata": {},
   "outputs": [],
   "source": [
    "# set the default account which will deploy contracts\n",
    "web3.eth.defaultAccount = web3.eth.accounts[0]"
   ]
  },
  {
   "cell_type": "code",
   "execution_count": 3,
   "metadata": {},
   "outputs": [],
   "source": [
    "trufflePath = 'contract'\n",
    "truffleFile = json.load(open(trufflePath + '/build/contracts/Monopoly.json'))\n",
    "\n",
    "abi = truffleFile['abi']\n",
    "bytecode = truffleFile['bytecode']"
   ]
  },
  {
   "cell_type": "code",
   "execution_count": 33,
   "metadata": {},
   "outputs": [],
   "source": [
    "# create instance of contract\n",
    "adoption = web3.eth.contract(abi=abi, bytecode=bytecode)"
   ]
  },
  {
   "cell_type": "code",
   "execution_count": 34,
   "metadata": {},
   "outputs": [],
   "source": [
    "# deploy it in your net\n",
    "tx_hash = adoption.constructor().transact()\n",
    "# wait for deployment completion\n",
    "tx_receipt = web3.eth.waitForTransactionReceipt(tx_hash)"
   ]
  },
  {
   "cell_type": "code",
   "execution_count": 35,
   "metadata": {},
   "outputs": [
    {
     "name": "stdout",
     "output_type": "stream",
     "text": [
      "0x808cc66B2aB64DE2994DF05E50F212E3a1BA9b11\n"
     ]
    }
   ],
   "source": [
    "# have a look at returned contract address\n",
    "print(tx_receipt.contractAddress)"
   ]
  },
  {
   "cell_type": "code",
   "execution_count": 36,
   "metadata": {},
   "outputs": [],
   "source": [
    "# use this address to connect to contract\n",
    "contract = web3.eth.contract(\n",
    "    address=tx_receipt.contractAddress,\n",
    "    abi=abi,\n",
    ")"
   ]
  },
  {
   "cell_type": "code",
   "execution_count": 37,
   "metadata": {},
   "outputs": [
    {
     "data": {
      "text/plain": [
       "0"
      ]
     },
     "execution_count": 37,
     "metadata": {},
     "output_type": "execute_result"
    }
   ],
   "source": [
    "# first call, withour broadcast\n",
    "contract.functions.adopt(0).call()"
   ]
  },
  {
   "cell_type": "code",
   "execution_count": 38,
   "metadata": {},
   "outputs": [],
   "source": [
    "greeting_filter = contract.events.greeting.createFilter(fromBlock=\"latest\")"
   ]
  },
  {
   "cell_type": "code",
   "execution_count": 39,
   "metadata": {},
   "outputs": [
    {
     "data": {
      "text/plain": [
       "HexBytes('0x19a1fee5d2d670b851d08e88f498ea90346b68a1a04b02ac1024aafcba153a21')"
      ]
     },
     "execution_count": 39,
     "metadata": {},
     "output_type": "execute_result"
    }
   ],
   "source": [
    "# then transact, with broadcast\n",
    "contract.functions.adopt(0).transact()"
   ]
  },
  {
   "cell_type": "code",
   "execution_count": 40,
   "metadata": {},
   "outputs": [
    {
     "data": {
      "text/plain": [
       "[AttributeDict({'args': AttributeDict({'name': 'jack',\n",
       "   'add': '0x14f53F5BBf87AF3E7B680E148104E2e373e7809f'}),\n",
       "  'event': 'greeting',\n",
       "  'logIndex': 0,\n",
       "  'transactionIndex': 0,\n",
       "  'transactionHash': HexBytes('0x19a1fee5d2d670b851d08e88f498ea90346b68a1a04b02ac1024aafcba153a21'),\n",
       "  'address': '0x808cc66B2aB64DE2994DF05E50F212E3a1BA9b11',\n",
       "  'blockHash': HexBytes('0x7dddc91e502ebe240b7d222577cc29e2c8e64d2baae91c7895905cc287eb6611'),\n",
       "  'blockNumber': 2})]"
      ]
     },
     "execution_count": 40,
     "metadata": {},
     "output_type": "execute_result"
    }
   ],
   "source": [
    "ret=greeting_filter.get_all_entries()\n",
    "ret"
   ]
  },
  {
   "cell_type": "code",
   "execution_count": 41,
   "metadata": {},
   "outputs": [
    {
     "data": {
      "text/plain": [
       "['0x14f53F5BBf87AF3E7B680E148104E2e373e7809f',\n",
       " '0x0000000000000000000000000000000000000000',\n",
       " '0x0000000000000000000000000000000000000000',\n",
       " '0x0000000000000000000000000000000000000000',\n",
       " '0x0000000000000000000000000000000000000000',\n",
       " '0x0000000000000000000000000000000000000000',\n",
       " '0x0000000000000000000000000000000000000000',\n",
       " '0x0000000000000000000000000000000000000000',\n",
       " '0x0000000000000000000000000000000000000000',\n",
       " '0x0000000000000000000000000000000000000000',\n",
       " '0x0000000000000000000000000000000000000000',\n",
       " '0x0000000000000000000000000000000000000000',\n",
       " '0x0000000000000000000000000000000000000000',\n",
       " '0x0000000000000000000000000000000000000000',\n",
       " '0x0000000000000000000000000000000000000000',\n",
       " '0x0000000000000000000000000000000000000000']"
      ]
     },
     "execution_count": 41,
     "metadata": {},
     "output_type": "execute_result"
    }
   ],
   "source": [
    "contract.functions.getAdopters().call()"
   ]
  },
  {
   "cell_type": "markdown",
   "metadata": {},
   "source": [
    "# Let's sign transaction explicitly"
   ]
  },
  {
   "cell_type": "code",
   "execution_count": 100,
   "metadata": {},
   "outputs": [],
   "source": [
    "account_0 = web3.eth.accounts[0]"
   ]
  },
  {
   "cell_type": "code",
   "execution_count": 101,
   "metadata": {},
   "outputs": [
    {
     "data": {
      "text/plain": [
       "11"
      ]
     },
     "execution_count": 101,
     "metadata": {},
     "output_type": "execute_result"
    }
   ],
   "source": [
    "# counter of transaction of user 0\n",
    "# needed for avoiding double spending\n",
    "nonce = web3.eth.getTransactionCount(account_0)\n",
    "nonce"
   ]
  },
  {
   "cell_type": "code",
   "execution_count": 102,
   "metadata": {},
   "outputs": [],
   "source": [
    "transaction = contract.functions.adopt(2).buildTransaction({\n",
    "    'gas': 70000,\n",
    "    'gasPrice': web3.toWei('1', 'gwei'),\n",
    "    'from': account_0,\n",
    "    'nonce': nonce\n",
    "    })"
   ]
  },
  {
   "cell_type": "code",
   "execution_count": 105,
   "metadata": {},
   "outputs": [],
   "source": [
    "private_key = \"b7add229087f4c5a3cda1b2b99156855892d1a610e5db93936cdecf3ffad7b16\""
   ]
  },
  {
   "cell_type": "code",
   "execution_count": 106,
   "metadata": {},
   "outputs": [],
   "source": [
    "signed_txn = web3.eth.account.signTransaction(transaction, private_key=private_key)"
   ]
  },
  {
   "cell_type": "code",
   "execution_count": 107,
   "metadata": {},
   "outputs": [
    {
     "data": {
      "text/plain": [
       "HexBytes('0x684ec9eb12497f06522870cbb550c3fce36fc60afda123bb5d3310b205a37db4')"
      ]
     },
     "execution_count": 107,
     "metadata": {},
     "output_type": "execute_result"
    }
   ],
   "source": [
    "web3.eth.sendRawTransaction(signed_txn.rawTransaction)"
   ]
  },
  {
   "cell_type": "code",
   "execution_count": 108,
   "metadata": {},
   "outputs": [
    {
     "data": {
      "text/plain": [
       "['0x4167fbfdbCE0d7047cEEf6452a9fED79535435f2',\n",
       " '0x0000000000000000000000000000000000000000',\n",
       " '0x4167fbfdbCE0d7047cEEf6452a9fED79535435f2',\n",
       " '0x0000000000000000000000000000000000000000',\n",
       " '0x0000000000000000000000000000000000000000',\n",
       " '0x0000000000000000000000000000000000000000',\n",
       " '0x0000000000000000000000000000000000000000',\n",
       " '0x0000000000000000000000000000000000000000',\n",
       " '0x0000000000000000000000000000000000000000',\n",
       " '0x0000000000000000000000000000000000000000',\n",
       " '0x0000000000000000000000000000000000000000',\n",
       " '0x0000000000000000000000000000000000000000',\n",
       " '0x0000000000000000000000000000000000000000',\n",
       " '0x0000000000000000000000000000000000000000',\n",
       " '0x0000000000000000000000000000000000000000',\n",
       " '0x0000000000000000000000000000000000000000']"
      ]
     },
     "execution_count": 108,
     "metadata": {},
     "output_type": "execute_result"
    }
   ],
   "source": [
    "contract.functions.getAdopters().call()"
   ]
  },
  {
   "cell_type": "code",
   "execution_count": null,
   "metadata": {},
   "outputs": [],
   "source": []
  }
 ],
 "metadata": {
  "kernelspec": {
   "display_name": "Python 3",
   "language": "python",
   "name": "python3"
  },
  "language_info": {
   "codemirror_mode": {
    "name": "ipython",
    "version": 3
   },
   "file_extension": ".py",
   "mimetype": "text/x-python",
   "name": "python",
   "nbconvert_exporter": "python",
   "pygments_lexer": "ipython3",
   "version": "3.7.9"
  }
 },
 "nbformat": 4,
 "nbformat_minor": 4
}
