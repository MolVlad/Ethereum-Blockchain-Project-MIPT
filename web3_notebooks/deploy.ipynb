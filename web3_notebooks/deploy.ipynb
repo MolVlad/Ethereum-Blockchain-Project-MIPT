{
 "cells": [
  {
   "cell_type": "code",
   "execution_count": 19,
   "metadata": {},
   "outputs": [
    {
     "name": "stdout",
     "output_type": "stream",
     "text": [
      "Test net is connected\n"
     ]
    }
   ],
   "source": [
    "from web3 import HTTPProvider, Web3\n",
    "import web3\n",
    "import json\n",
    "\n",
    "web3 = Web3(HTTPProvider('http://127.0.0.1:7545'))\n",
    "if web3.isConnected():\n",
    "    print(\"Test net is connected\")"
   ]
  },
  {
   "cell_type": "code",
   "execution_count": 20,
   "metadata": {},
   "outputs": [
    {
     "data": {
      "text/plain": [
       "['0x71953ec845370B2572a2846ad4c574bFA085eBcC',\n",
       " '0x95845bac85F57dBdd7EBb721445485EA7797ED5e',\n",
       " '0x04357b1A307726Db114934B3b026DC77f84483f2',\n",
       " '0xe114f0b1f3c0d375c9b0346be5714F1EED5D0758',\n",
       " '0x39CAbF0bB7B1e1B1dA17015dd609B902e15BE006',\n",
       " '0x138d6afA5ab780E3f608198005141D35B80CD8B2',\n",
       " '0x280D1D40FCCE55E9b0a5A356d13D5Ea6060D557e',\n",
       " '0x8820597003eEbfF4fd01975B92c4a2EC576BcAC4',\n",
       " '0x6A049029ba4888d9fec8f78950fF568fc5eaA18C',\n",
       " '0xF7e6D2F25594d90a3b0CB4f644507267A19FCd89']"
      ]
     },
     "execution_count": 20,
     "metadata": {},
     "output_type": "execute_result"
    }
   ],
   "source": [
    "web3.eth.accounts"
   ]
  },
  {
   "cell_type": "code",
   "execution_count": 15,
   "metadata": {},
   "outputs": [
    {
     "name": "stdout",
     "output_type": "stream",
     "text": [
      "Contract deployed\n",
      "Contract address: 0xc9b428539934a277ebdf1dFDBec56BF7271651A0\n"
     ]
    }
   ],
   "source": [
    "web3.eth.defaultAccount = web3.eth.accounts[0]\n",
    "trufflePath = 'contract'\n",
    "truffleFile = json.load(open(trufflePath + '/build/contracts/Monopoly.json'))\n",
    "\n",
    "abi = truffleFile['abi']\n",
    "bytecode = truffleFile['bytecode']\n",
    "\n",
    "game = web3.eth.contract(abi=abi, bytecode=bytecode)\n",
    "\n",
    "tx_hash = game.constructor().transact()\n",
    "tx_receipt = web3.eth.waitForTransactionReceipt(tx_hash)\n",
    "\n",
    "if tx_receipt.status == 1:\n",
    "    print(\"Contract deployed\")\n",
    "    print(\"Contract address:\", tx_receipt.contractAddress)"
   ]
  },
  {
   "cell_type": "code",
   "execution_count": null,
   "metadata": {},
   "outputs": [],
   "source": []
  }
 ],
 "metadata": {
  "kernelspec": {
   "display_name": "Python 3",
   "language": "python",
   "name": "python3"
  },
  "language_info": {
   "codemirror_mode": {
    "name": "ipython",
    "version": 3
   },
   "file_extension": ".py",
   "mimetype": "text/x-python",
   "name": "python",
   "nbconvert_exporter": "python",
   "pygments_lexer": "ipython3",
   "version": "3.7.9"
  }
 },
 "nbformat": 4,
 "nbformat_minor": 4
}
