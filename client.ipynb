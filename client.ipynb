{
 "cells": [
  {
   "cell_type": "code",
   "execution_count": 194,
   "metadata": {},
   "outputs": [],
   "source": [
    "contractAddress = '0xd5C615da05cA6d815bBCeEFdEAc6dAda62289317'\n",
    "\n",
    "name1 = \"Vlados\"\n",
    "addr1 = \"0x0bF0938fA40eaAA77B803467C2CEf44b49B04365\"\n",
    "\n",
    "name2= \"Phil\"\n",
    "addr2 = \"0x710D21c88268750A4bbd64f7EA5821Dcb2ac4016\""
   ]
  },
  {
   "cell_type": "code",
   "execution_count": 195,
   "metadata": {},
   "outputs": [],
   "source": [
    "from web3 import HTTPProvider, Web3\n",
    "import json\n",
    "\n",
    "class Client:\n",
    "    def __init__(self, contractAddress, clientName, clientAddress, netAddress='http://127.0.0.1:7545',\n",
    "                verbose = False):\n",
    "        \n",
    "        self.web3 = Web3(HTTPProvider(netAddress))\n",
    "        \n",
    "        self.contractAddress = contractAddress\n",
    "        self.clientName = clientName\n",
    "        self.clientAddress = clientAddress\n",
    "        self.verbose = verbose\n",
    "        \n",
    "        self.web3.eth.defaultAccount = self.clientAddress\n",
    "\n",
    "        if self.verbose:\n",
    "            if self.web3.isConnected():\n",
    "                print(\"Test net is connected\")\n",
    "            else:\n",
    "                print(\"Problem with connection to test net\")\n",
    "        \n",
    "        abi = json.load(open('contract/build/contracts/Monopoly.json'))['abi']\n",
    "        self.contract = self.web3.eth.contract(address=contractAddress, abi=abi)\n",
    "        \n",
    "        self.filterMoveIsMade = self.contract.events.moveIsMade.createFilter(fromBlock=\"latest\", \n",
    "                                                    argument_filters={'name':self.clientName})\n",
    "        self.filterStationBought = self.contract.events.stationBought.createFilter(fromBlock=\"latest\",\n",
    "                                                    argument_filters={'name':self.clientName})\n",
    "        self.filterActionHappened = self.contract.events.actionHappened.createFilter(fromBlock=\"latest\")\n",
    "\n",
    "    \n",
    "    def enrollGame(self, verbose=False):\n",
    "        enrollSuccess = self.contract.functions.enroll(self.clientName).call()\n",
    "        \n",
    "        tx_hash = self.contract.functions.enroll(self.clientName).transact()\n",
    "        tx_receipt = self.web3.eth.waitForTransactionReceipt(tx_hash)\n",
    "        \n",
    "        [getNumberSuccess, self.playerNumber] = self.contract.functions.getNumberOfYourPlayer().call()\n",
    "\n",
    "        if verbose or self.verbose:\n",
    "            print(self.clientName, \"Enroll success:\", enrollSuccess)\n",
    "            print(self.clientName, \"Enroll transact status:\",tx_receipt.status)\n",
    "            \n",
    "            if getNumberSuccess:\n",
    "                print(self.clientName, \"Your player number\", self.playerNumber)\n",
    "            else:\n",
    "                print(self.clientName, \"Error while getting number of player\")\n",
    "        \n",
    "        return getNumberSuccess and enrollSuccess\n",
    "    \n",
    "    def isGameActive(self, verbose=False):\n",
    "        isActive = self.contract.functions.isGameActive().call()\n",
    "        if verbose or self.verbose:\n",
    "            print(\"game is active:\", isActive)\n",
    "\n",
    "        return isActive\n",
    "    \n",
    "    def isDecisionNecessary(self, verbose=False):\n",
    "        isNecessary = self.contract.functions.getPlayerByIndex(self.playerNumber).call()[5]\n",
    "        \n",
    "        if verbose or self.verbose:\n",
    "            if isNecessary:\n",
    "                print(self.clientName, \"decision IS necessary\")\n",
    "            else:\n",
    "                print(self.clientName, \"decision is NOT necessary\")\n",
    "                \n",
    "        return isNecessary\n",
    "\n",
    "    def whoseMove(self, verbose=False):\n",
    "        whose = self.contract.functions.getWhoseMove().call()\n",
    "        \n",
    "        if verbose or self.verbose:\n",
    "            print(\"whose move:\", whose)\n",
    "            \n",
    "        return whose\n",
    "    \n",
    "    def movesInPrison(self, verbose=False):\n",
    "        movesInPr = self.contract.functions.getPlayerByIndex(self.playerNumber).call()[4]\n",
    "\n",
    "        if verbose or self.verbose:\n",
    "            if movesInPr > 0:\n",
    "                print(self.clientName, \"has\", movesInPr, \"moves in prison\")\n",
    "            else:\n",
    "                print(self.clientName, \"is NOT in prison\")\n",
    "\n",
    "        return movesInPr\n",
    "    \n",
    "    def makeMove(self, verbose=False):\n",
    "        if self.contract.functions.getWhoseMove().call() != self.clientName:\n",
    "            if verbose or self.verbose:\n",
    "                print(self.clientName, \"It's not your move\")\n",
    "            dice = -1\n",
    "            return dice\n",
    "        \n",
    "        makeMoveSuccess = self.contract.functions.makeMove().call()\n",
    "\n",
    "        tx_hash=self.contract.functions.makeMove().transact()\n",
    "        tx_receipt = self.web3.eth.waitForTransactionReceipt(tx_hash)        \n",
    "        events=self.filterMoveIsMade.get_new_entries()\n",
    "\n",
    "        if (tx_receipt.status != 1) or (len(events) == 0):\n",
    "            dice = -1\n",
    "        else:\n",
    "            dice = events[len(events)-1]['args']['dice']\n",
    "\n",
    "        if verbose or self.verbose:\n",
    "            print(self.clientName, \"MakeMove success:\", makeMoveSuccess)\n",
    "            print(self.clientName, \"makeMove transact status\",tx_receipt.status)\n",
    "            if len(events) > 0:\n",
    "                print(self.clientName, \"Dice value:\", dice)\n",
    "                if len(events) > 1:\n",
    "                    print(self.clientName, \"Bug, there are more events MoveIsMade\")\n",
    "            else:\n",
    "                print(self.clientName, \"no events with moves\")\n",
    "                \n",
    "        return dice\n",
    "\n",
    "    def getPlayers(self):\n",
    "        players = {}\n",
    "        maxNumber = self.contract.functions.getMaxNumberOfPlayers().call()\n",
    "        for i in range(maxNumber):\n",
    "            player = self.contract.functions.getPlayerByIndex(i).call()\n",
    "            players[player[1]]={\"money\":player[2], \"position\":player[3], \"moves in prison\":player[4]}\n",
    "        return players     \n",
    "    \n",
    "    def getPositions(self):\n",
    "        positions = []\n",
    "        numberOfPositions = self.contract.functions.getNumberOfStations().call()\n",
    "        players = self.getPlayers()\n",
    "\n",
    "        for i in range(numberOfPositions):\n",
    "            [state, owner] = self.contract.functions.getStationByIndex(i).call()\n",
    "            if state == 0:\n",
    "                positions.append([\"None\",\"\"])\n",
    "            if state == 1:\n",
    "                positions.append([\"Available\", \"\"])\n",
    "            if state == 2:\n",
    "                positions.append([\"Bought\", self.contract.functions.getPlayerByIndex(owner).call()[1]])\n",
    "\n",
    "        return positions\n",
    "    \n",
    "    def getLogs(self, verbose=True):\n",
    "        logs = []\n",
    "        events = self.filterActionHappened.get_new_entries()\n",
    "        \n",
    "        for event in events:\n",
    "            logs.append(str(event['args']['name']) + \" at position \" + \n",
    "                        str(event['args']['position']) + \" : \" + str(event['args']['action']))\n",
    "        \n",
    "        if verbose or self.verbose:\n",
    "                for log in logs:\n",
    "                    print(log)\n",
    "        \n",
    "        return logs\n",
    "\n",
    "    def makeDecision(self, decision, verbose=False):\n",
    "        makeDecisionSuccess = self.contract.functions.buyStation(decision).call()\n",
    "        \n",
    "        tx_hash=self.contract.functions.buyStation(decision).transact()\n",
    "        tx_receipt = self.web3.eth.waitForTransactionReceipt(tx_hash)\n",
    "        events=self.filterStationBought.get_new_entries()\n",
    "        \n",
    "        if verbose or self.verbose:\n",
    "            print(self.clientName, \"makeDecision success:\", makeDecisionSuccess)\n",
    "            print(self.clientName, \"makeDecision transact status:\",tx_receipt.status)\n",
    "\n",
    "            if len(events) > 0:\n",
    "                print(\"station\",events[len(events)-1]['args']['station'], \"is bought by you\")\n",
    "                print(\"current money:\", self.contract.functions.getPlayerByIndex(self.playerNumber).call()[2])\n",
    "                \n",
    "                if len(events) > 1:\n",
    "                    print(\"there are also more events\")\n",
    "            else:\n",
    "                print(\"station is not bought by you\")\n",
    "                print(\"current money:\", self.contract.functions.getPlayerByIndex(self.playerNumber).call()[2])\n",
    "        \n",
    "        return makeDecisionSuccess and (len(events) > 0)"
   ]
  },
  {
   "cell_type": "code",
   "execution_count": 196,
   "metadata": {},
   "outputs": [
    {
     "name": "stdout",
     "output_type": "stream",
     "text": [
      "Test net is connected\n",
      "Vlados Enroll success: True\n",
      "Vlados Enroll transact status: 1\n",
      "Vlados Your player number 0\n"
     ]
    },
    {
     "data": {
      "text/plain": [
       "True"
      ]
     },
     "execution_count": 196,
     "metadata": {},
     "output_type": "execute_result"
    }
   ],
   "source": [
    "client1=Client(contractAddress, name1, addr1, verbose=True)\n",
    "client1.enrollGame()"
   ]
  },
  {
   "cell_type": "code",
   "execution_count": 197,
   "metadata": {},
   "outputs": [
    {
     "name": "stdout",
     "output_type": "stream",
     "text": [
      "Test net is connected\n",
      "Phil Enroll success: True\n",
      "Phil Enroll transact status: 1\n",
      "Phil Your player number 1\n"
     ]
    },
    {
     "data": {
      "text/plain": [
       "True"
      ]
     },
     "execution_count": 197,
     "metadata": {},
     "output_type": "execute_result"
    }
   ],
   "source": [
    "client2=Client(contractAddress, name2, addr2, verbose=True)\n",
    "client2.enrollGame()"
   ]
  },
  {
   "cell_type": "code",
   "execution_count": 198,
   "metadata": {},
   "outputs": [
    {
     "name": "stdout",
     "output_type": "stream",
     "text": [
      "game is active: True\n",
      "whose move: Vlados\n",
      "Vlados is NOT in prison\n",
      "Vlados decision is NOT necessary\n",
      "Phil is NOT in prison\n",
      "Phil decision is NOT necessary\n"
     ]
    },
    {
     "data": {
      "text/plain": [
       "False"
      ]
     },
     "execution_count": 198,
     "metadata": {},
     "output_type": "execute_result"
    }
   ],
   "source": [
    "client1.isGameActive()\n",
    "client1.whoseMove()\n",
    "client1.movesInPrison()\n",
    "client1.isDecisionNecessary()\n",
    "client2.movesInPrison()\n",
    "client2.isDecisionNecessary()"
   ]
  },
  {
   "cell_type": "code",
   "execution_count": 202,
   "metadata": {},
   "outputs": [
    {
     "name": "stdout",
     "output_type": "stream",
     "text": [
      "Vlados MakeMove success: True\n",
      "Vlados makeMove transact status 1\n",
      "Vlados Dice value: 4\n",
      "Vlados decision IS necessary\n"
     ]
    },
    {
     "data": {
      "text/plain": [
       "True"
      ]
     },
     "execution_count": 202,
     "metadata": {},
     "output_type": "execute_result"
    }
   ],
   "source": [
    "client1.makeMove()\n",
    "client1.isDecisionNecessary()"
   ]
  },
  {
   "cell_type": "code",
   "execution_count": 200,
   "metadata": {},
   "outputs": [
    {
     "name": "stdout",
     "output_type": "stream",
     "text": [
      "Phil MakeMove success: True\n",
      "Phil makeMove transact status 1\n",
      "Phil Dice value: 1\n",
      "Phil decision IS necessary\n"
     ]
    },
    {
     "data": {
      "text/plain": [
       "True"
      ]
     },
     "execution_count": 200,
     "metadata": {},
     "output_type": "execute_result"
    }
   ],
   "source": [
    "client2.makeMove()\n",
    "client2.isDecisionNecessary()"
   ]
  },
  {
   "cell_type": "code",
   "execution_count": 205,
   "metadata": {},
   "outputs": [
    {
     "data": {
      "text/plain": [
       "{'Vlados': {'money': 0, 'position': 7, 'moves in prison': 0},\n",
       " 'Phil': {'money': 0, 'position': 1, 'moves in prison': 0}}"
      ]
     },
     "execution_count": 205,
     "metadata": {},
     "output_type": "execute_result"
    }
   ],
   "source": [
    "client1.getPlayers()"
   ]
  },
  {
   "cell_type": "code",
   "execution_count": 204,
   "metadata": {},
   "outputs": [
    {
     "data": {
      "text/plain": [
       "[['None', ''],\n",
       " ['Bought', 'Phil'],\n",
       " ['Available', ''],\n",
       " ['None', ''],\n",
       " ['None', ''],\n",
       " ['Available', ''],\n",
       " ['None', ''],\n",
       " ['Bought', 'Vlados'],\n",
       " ['Available', ''],\n",
       " ['None', ''],\n",
       " ['None', ''],\n",
       " ['Available', '']]"
      ]
     },
     "execution_count": 204,
     "metadata": {},
     "output_type": "execute_result"
    }
   ],
   "source": [
    "client1.getPositions()"
   ]
  },
  {
   "cell_type": "code",
   "execution_count": 183,
   "metadata": {},
   "outputs": [
    {
     "name": "stdout",
     "output_type": "stream",
     "text": [
      "Vlados at position 1 : Toll station, pay 50$ to Phil\n",
      "Vlados at position 1 : Finished his way (looooh, pi*or)\n"
     ]
    },
    {
     "data": {
      "text/plain": [
       "['Vlados at position 1 : Toll station, pay 50$ to Phil',\n",
       " 'Vlados at position 1 : Finished his way (looooh, pi*or)']"
      ]
     },
     "execution_count": 183,
     "metadata": {},
     "output_type": "execute_result"
    }
   ],
   "source": [
    "client1.getLogs()"
   ]
  },
  {
   "cell_type": "code",
   "execution_count": 203,
   "metadata": {},
   "outputs": [
    {
     "name": "stdout",
     "output_type": "stream",
     "text": [
      "Vlados makeDecision success: True\n",
      "Vlados makeDecision transact status: 1\n",
      "station 7 is bought by you\n",
      "current money: 0\n"
     ]
    },
    {
     "data": {
      "text/plain": [
       "True"
      ]
     },
     "execution_count": 203,
     "metadata": {},
     "output_type": "execute_result"
    }
   ],
   "source": [
    "client1.makeDecision(True)"
   ]
  },
  {
   "cell_type": "code",
   "execution_count": 201,
   "metadata": {},
   "outputs": [
    {
     "name": "stdout",
     "output_type": "stream",
     "text": [
      "Phil makeDecision success: True\n",
      "Phil makeDecision transact status: 1\n",
      "station 1 is bought by you\n",
      "current money: 0\n"
     ]
    },
    {
     "data": {
      "text/plain": [
       "True"
      ]
     },
     "execution_count": 201,
     "metadata": {},
     "output_type": "execute_result"
    }
   ],
   "source": [
    "client2.makeDecision(True)"
   ]
  },
  {
   "cell_type": "code",
   "execution_count": null,
   "metadata": {},
   "outputs": [],
   "source": []
  }
 ],
 "metadata": {
  "kernelspec": {
   "display_name": "Python 3",
   "language": "python",
   "name": "python3"
  },
  "language_info": {
   "codemirror_mode": {
    "name": "ipython",
    "version": 3
   },
   "file_extension": ".py",
   "mimetype": "text/x-python",
   "name": "python",
   "nbconvert_exporter": "python",
   "pygments_lexer": "ipython3",
   "version": "3.7.9"
  }
 },
 "nbformat": 4,
 "nbformat_minor": 4
}
